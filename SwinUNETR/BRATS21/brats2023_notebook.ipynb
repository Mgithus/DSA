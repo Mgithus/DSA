


import zipfile
import csv
import os
import numpy as np
import matplotlib.pyplot as plt

from google.colab import drive
drive.mount('/gdrive')




!python -c "import monai" || pip install -q "monai-weekly[nibabel]"
!python -c "import matplotlib" || pip install -q matplotlib
%matplotlib inline
